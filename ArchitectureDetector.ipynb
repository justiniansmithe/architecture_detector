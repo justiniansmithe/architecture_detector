{
 "cells": [
  {
   "cell_type": "code",
   "execution_count": 1,
   "metadata": {
    "scrolled": true
   },
   "outputs": [
    {
     "name": "stderr",
     "output_type": "stream",
     "text": [
      "/Library/Frameworks/Python.framework/Versions/3.7/lib/python3.7/site-packages/fastbook/__init__.py:22: UserWarning: Missing `graphviz` - please run `conda install fastbook`\n",
      "  except ModuleNotFoundError: warn(\"Missing `graphviz` - please run `conda install fastbook`\")\n"
     ]
    }
   ],
   "source": [
    "#hide\n",
    "!pip install -Uqq fastbook\n",
    "import fastbook\n",
    "fastbook.setup_book()\n",
    "#hide\n",
    "from fastbook import *\n",
    "from fastai.vision.widgets import *\n",
    "key = os.environ.get('AZURE_SEARCH_KEY', 'b8ac8962af1d4e619278df16bf264119')\n",
    "\n",
    "\n",
    "#make directory\n",
    "os.mkdir('images')\n",
    "search_images_bing\n",
    "results = search_images_bing(key, 'architecture')\n",
    "ims = results.attrgot('content_url')\n",
    "len(ims)\n",
    "#hide\n",
    "dest = 'images/architecture.jpg'\n",
    "download_url(ims[0], dest)\n",
    "im = Image.open(dest)\n",
    "im.to_thumb(128,128)\n",
    "\n",
    "\n",
    "architecture_types = 'gothic architecture', 'roman architecture', 'moden architecture', 'egyptian architecture', 'japanese architecture'\n",
    "path = Path('architecture')\n",
    "if not path.exists():\n",
    "  path.mkdir()\n",
    "  for o in architecture_types:\n",
    "    dest = (path/o)\n",
    "    dest.mkdir(exist_ok=True)\n",
    "    results = search_images_bing(key, f'{o} architecture')\n",
    "    download_images(dest, urls=results.attrgot('content_url'))\n",
    "\n",
    "fns = get_image_files(path)\n",
    "fns\n",
    "\n",
    "failed = verify_images(fns)\n",
    "failed\n",
    "failed.map(Path.unlink)\n",
    "\n",
    "\n",
    "class DataLoaders(GetAttr):\n",
    "  def __init__(self, *loaders): self.loaders = loaders\n",
    "  def __getitem__(self, i): return self.loaders[i]\n",
    "  train,valid = add_props(lambda i, self: self[i])\n",
    "  \n",
    "\n",
    "architecture = DataBlock(\n",
    "    #The independent variable is the thing we are using to make \n",
    "    #predictions from, and the dependent variable is our target. \n",
    "    blocks=(ImageBlock, CategoryBlock),\n",
    "\n",
    "    #function takes a path, and returns a list of all of the \n",
    "    #images in that path (recursively, by default):\n",
    "    get_items=get_image_files,\n",
    "\n",
    "    #Create train/valid split thanks to seed\n",
    "    splitter=RandomSplitter(valid_pct=0.2, seed=42),\n",
    "\n",
    "    #retrieve labels\n",
    "    get_y=parent_label,\n",
    "\n",
    "    #need to add a transform to visually retrieve images from tensor \n",
    "    item_tfms=Resize(128))\n",
    "\n",
    "\n",
    "path, architecture\n",
    "\n",
    "dls = architecture.dataloaders(path)\n",
    "dls.valid.show_batch(max_n=4, nrows=1)\n",
    "\n"
   ]
  }
 ],
 "metadata": {
  "kernelspec": {
   "display_name": "Python 3",
   "language": "python",
   "name": "python3"
  },
  "language_info": {
   "codemirror_mode": {
    "name": "ipython",
    "version": 3
   },
   "file_extension": ".py",
   "mimetype": "text/x-python",
   "name": "python",
   "nbconvert_exporter": "python",
   "pygments_lexer": "ipython3",
   "version": "3.7.4"
  }
 },
 "nbformat": 4,
 "nbformat_minor": 4
}
